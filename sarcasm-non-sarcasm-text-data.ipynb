{
 "cells": [
  {
   "cell_type": "code",
   "execution_count": 1,
   "id": "ea414a9b-fcdd-4f6d-adb6-773fa599e931",
   "metadata": {
    "tags": []
   },
   "outputs": [
    {
     "name": "stderr",
     "output_type": "stream",
     "text": [
      "'wget' is not recognized as an internal or external command,\n",
      "operable program or batch file.\n"
     ]
    }
   ],
   "source": [
    "import json, tensorflow as tf, numpy as np, matplotlib.pyplot as plt\n",
    "from tensorflow.keras.preprocessing.text import Tokenizer\n",
    "from tensorflow.keras.preprocessing.sequence import pad_sequences\n",
    "\n",
    "!wget --no-check-certificate \\\n",
    "    https://storage.googleapis.com/learning-datasets/sarcasm.json \\\n",
    "    -O /tmp/sarcasm.json"
   ]
  },
  {
   "cell_type": "code",
   "execution_count": 2,
   "id": "7e06e544-21a3-41e0-8c18-5764e2c03d4e",
   "metadata": {
    "tags": []
   },
   "outputs": [
    {
     "ename": "NameError",
     "evalue": "name 'max_length' is not defined",
     "output_type": "error",
     "traceback": [
      "\u001b[1;31m---------------------------------------------------------------------------\u001b[0m",
      "\u001b[1;31mNameError\u001b[0m                                 Traceback (most recent call last)",
      "Cell \u001b[1;32mIn[2], line 4\u001b[0m\n\u001b[0;32m      1\u001b[0m PATH \u001b[38;5;241m=\u001b[39m \u001b[38;5;124mf\u001b[39m\u001b[38;5;124m\"\u001b[39m\u001b[38;5;124mD:/_WORK/Nikita/Target/NLP Binary Classifier/\u001b[39m\u001b[38;5;124m\"\u001b[39m\n\u001b[0;32m      2\u001b[0m inputFilePath \u001b[38;5;241m=\u001b[39m \u001b[38;5;124mf\u001b[39m\u001b[38;5;124m\"\u001b[39m\u001b[38;5;132;01m{\u001b[39;00mPATH\u001b[38;5;132;01m}\u001b[39;00m\u001b[38;5;124mdata/sarsactic-nonsarsactic-binary-classification-nlp-data.json\u001b[39m\u001b[38;5;124m\"\u001b[39m\n\u001b[1;32m----> 4\u001b[0m modelPath \u001b[38;5;241m=\u001b[39m \u001b[38;5;124mf\u001b[39m\u001b[38;5;124m'\u001b[39m\u001b[38;5;132;01m{\u001b[39;00mPATH\u001b[38;5;132;01m}\u001b[39;00m\u001b[38;5;124mmodel/sarsactic-nonsarsactic-max_length-\u001b[39m\u001b[38;5;132;01m{\u001b[39;00m\u001b[43mmax_length\u001b[49m\u001b[38;5;132;01m}\u001b[39;00m\u001b[38;5;124m_embedding_dim-\u001b[39m\u001b[38;5;132;01m{\u001b[39;00membedding_dim\u001b[38;5;132;01m}\u001b[39;00m\u001b[38;5;124m.h5\u001b[39m\u001b[38;5;124m'\u001b[39m\n\u001b[0;32m      6\u001b[0m \u001b[38;5;28;01mwith\u001b[39;00m \u001b[38;5;28mopen\u001b[39m(inputFilePath, \u001b[38;5;124m'\u001b[39m\u001b[38;5;124mr\u001b[39m\u001b[38;5;124m'\u001b[39m) \u001b[38;5;28;01mas\u001b[39;00m f:\n\u001b[0;32m      7\u001b[0m     datastore \u001b[38;5;241m=\u001b[39m json\u001b[38;5;241m.\u001b[39mload(f)\n",
      "\u001b[1;31mNameError\u001b[0m: name 'max_length' is not defined"
     ]
    }
   ],
   "source": [
    "PATH = f\"D:/_WORK/Nikita/Target/NLP Binary Classifier/\"\n",
    "inputFilePath = f\"{PATH}data/sarsactic-nonsarsactic-binary-classification-nlp-data.json\"\n",
    "\n",
    "modelPath = f'{PATH}model/sarsactic-nonsarsactic-max_length-{max_length}_embedding_dim-{embedding_dim}.h5'\n",
    "\n",
    "with open(inputFilePath, 'r') as f:\n",
    "    datastore = json.load(f)\n",
    "    \n",
    "print(datastore[0:2])"
   ]
  },
  {
   "cell_type": "code",
   "execution_count": null,
   "id": "523ddea8-0cd2-4589-9a60-b5ce9326e5be",
   "metadata": {
    "scrolled": true,
    "tags": []
   },
   "outputs": [],
   "source": [
    "# extract sentences and it's label\n",
    "\n",
    "sentences = []\n",
    "labels = []\n",
    "\n",
    "for item in datastore:\n",
    "    sentences.append(item['headline'])\n",
    "    labels.append(item['is_sarcastic'])\n",
    "    \n",
    "sentences"
   ]
  },
  {
   "cell_type": "code",
   "execution_count": null,
   "id": "9571a86c-733b-4831-bc5c-c54012f7a920",
   "metadata": {
    "tags": []
   },
   "outputs": [],
   "source": [
    "print(np.unique(labels))"
   ]
  },
  {
   "cell_type": "code",
   "execution_count": null,
   "id": "17609065-ad56-4e90-85ce-6bdbf2ad4d9a",
   "metadata": {
    "tags": []
   },
   "outputs": [],
   "source": [
    "# split the data into training and validation\n",
    "\n",
    "training_size = 20000  \n",
    "\n",
    "training_sentences = sentences[0:training_size]\n",
    "testing_sentences = sentences[training_size:]\n",
    "training_labels = labels[0:training_size]\n",
    "testing_labels = labels[training_size:]\n",
    "\n",
    "print(len(training_sentences),  len(training_labels), len(testing_sentences), len(testing_labels))"
   ]
  },
  {
   "cell_type": "code",
   "execution_count": null,
   "id": "381fdf0c-2f25-4c5a-91e8-cb38b922d33a",
   "metadata": {
    "scrolled": true,
    "tags": []
   },
   "outputs": [],
   "source": [
    "# Tokenization\n",
    "\n",
    "vocab_size = 10000    # the total number of unique words in the input text\n",
    "oov_tok = \"<OOV>\"     # create a token for that & replace the words that is not there\n",
    "max_length = 100      # length of the input sequences, which is set to max_length in this case. The input sequences are expected to be padded or truncated to this length.\n",
    "padding_type='post'   # equally-sized sequences by padding them with 0s at the front or back\n",
    "trunc_type='post'     # to chop off the words at the end or beginning\n",
    "\n",
    "\n",
    "# Tokenizer is the instance of tokenizer object\n",
    "tokenizer = Tokenizer(num_words=vocab_size,\n",
    "                      oov_token=oov_tok)\n",
    "\n",
    "# tells tokenizer to go through all the text and then fit itself\n",
    "tokenizer.fit_on_texts(training_sentences)\n",
    "\n",
    "# word_index contains the full list of words\n",
    "word_index = tokenizer.word_index\n",
    "\n",
    "print(word_index)"
   ]
  },
  {
   "cell_type": "code",
   "execution_count": 24,
   "id": "83df0a67-ed4d-459d-b39c-cf4f301d7086",
   "metadata": {},
   "outputs": [],
   "source": [
    "# create sequences of numbers from the sentences\n",
    "\n",
    "training_sequences = tokenizer.texts_to_sequences(training_sentences)\n",
    "testing_sequences = tokenizer.texts_to_sequences(testing_sentences)\n",
    "\n",
    "# add padding to the text \n",
    "\n",
    "training_padded = pad_sequences(training_sequences,\n",
    "                                maxlen=max_length,\n",
    "                                padding=padding_type,\n",
    "                                truncating=trunc_type)\n",
    "\n",
    "\n",
    "testing_padded = pad_sequences(testing_sequences,\n",
    "                               maxlen=max_length,\n",
    "                               padding=padding_type,\n",
    "                               truncating=trunc_type)\n"
   ]
  },
  {
   "cell_type": "code",
   "execution_count": 25,
   "id": "0694efd6-3726-49b7-91e9-68fe49354f60",
   "metadata": {
    "tags": []
   },
   "outputs": [],
   "source": [
    "# Need this block to get it to work with TensorFlow 2.x\n",
    "\n",
    "training_padded = np.array(training_padded)\n",
    "training_labels = np.array(training_labels)\n",
    "testing_padded = np.array(testing_padded)\n",
    "testing_labels = np.array(testing_labels)"
   ]
  },
  {
   "cell_type": "code",
   "execution_count": 26,
   "id": "e72786d3-d357-4379-b194-288f2375091e",
   "metadata": {
    "tags": []
   },
   "outputs": [],
   "source": [
    "\n",
    "embedding_dim = 16    # the number of features to represent each word ; the dimensionality of the word embeddings\n",
    "\n",
    "model = tf.keras.Sequential([\n",
    "    \n",
    "    # This layer represents word embeddings, which are dense vector representations of words in a continuous space\n",
    "    tf.keras.layers.Embedding(vocab_size, # the total number of unique words in the input text\n",
    "                              embedding_dim, # the dimensionality of the word embeddings, i.e., the number of features to represent each word\n",
    "                              input_length=max_length), # length of the input sequences, which is set to max_length in this case. The input sequences are expected to be padded or truncated to this length.\n",
    "\n",
    "    # this layer performs global average pooling on the embedded sequences. \n",
    "    # it computes the average of the feature values for each feature dimension across the entire sequence,\n",
    "    # resulting in a fixed-size output regardless of the input sequence length.\n",
    "    tf.keras.layers.GlobalAveragePooling1D(),\n",
    "    \n",
    "    #  fully connected dense layer with 24 units and ReLU (Rectified Linear Unit) activation function.\n",
    "    # it introduces non-linearity into the model and learns higher-level representations of the features.\n",
    "    tf.keras.layers.Dense(24,\n",
    "                          activation='relu'),\n",
    "    \n",
    "    # the output layer with a single sigmoid activation unit, which produces a binary classification prediction (either 0 or 1) for each input text sequence\n",
    "    tf.keras.layers.Dense(1,\n",
    "                          activation='sigmoid')\n",
    "])\n",
    "\n",
    "\n",
    "#  configure the training process of a neural network model\n",
    "model.compile(loss='binary_crossentropy', # specifies the loss function that will be used during training to measure the discrepancy between the predicted output and the ground truth.\n",
    "              optimizer='adam', # optimizer algorithm that adjusts the weights based on the calculated gradients of the loss function, with the goal of minimizing the loss during training\n",
    "              # adam is the popular choice for gradient-based optimization due to its adaptive learning rate and momentum\n",
    "              metrics=['accuracy'] # specifies the evaluation metrics that will be calculated and reported during training and evaluation of the mode\n",
    "             )"
   ]
  },
  {
   "cell_type": "code",
   "execution_count": 27,
   "id": "37ad2ab9-1efc-4bb7-a619-1e83ded07cef",
   "metadata": {
    "tags": []
   },
   "outputs": [
    {
     "name": "stdout",
     "output_type": "stream",
     "text": [
      "Model: \"sequential\"\n",
      "_________________________________________________________________\n",
      " Layer (type)                Output Shape              Param #   \n",
      "=================================================================\n",
      " embedding (Embedding)       (None, 100, 16)           160000    \n",
      "                                                                 \n",
      " global_average_pooling1d (G  (None, 16)               0         \n",
      " lobalAveragePooling1D)                                          \n",
      "                                                                 \n",
      " dense (Dense)               (None, 24)                408       \n",
      "                                                                 \n",
      " dense_1 (Dense)             (None, 1)                 25        \n",
      "                                                                 \n",
      "=================================================================\n",
      "Total params: 160,433\n",
      "Trainable params: 160,433\n",
      "Non-trainable params: 0\n",
      "_________________________________________________________________\n"
     ]
    }
   ],
   "source": [
    "model.summary()\n"
   ]
  },
  {
   "cell_type": "code",
   "execution_count": 28,
   "id": "e308a444-42ab-4028-bc64-f45e7786c319",
   "metadata": {
    "tags": []
   },
   "outputs": [
    {
     "name": "stdout",
     "output_type": "stream",
     "text": [
      "Epoch 1/30\n",
      "625/625 - 3s - loss: 0.6665 - accuracy: 0.5656 - val_loss: 0.6035 - val_accuracy: 0.7143 - 3s/epoch - 5ms/step\n",
      "Epoch 2/30\n",
      "625/625 - 2s - loss: 0.4481 - accuracy: 0.8141 - val_loss: 0.3842 - val_accuracy: 0.8441 - 2s/epoch - 3ms/step\n",
      "Epoch 3/30\n",
      "625/625 - 2s - loss: 0.3056 - accuracy: 0.8821 - val_loss: 0.3528 - val_accuracy: 0.8520 - 2s/epoch - 3ms/step\n",
      "Epoch 4/30\n",
      "625/625 - 2s - loss: 0.2511 - accuracy: 0.9031 - val_loss: 0.3427 - val_accuracy: 0.8574 - 2s/epoch - 3ms/step\n",
      "Epoch 5/30\n",
      "625/625 - 1s - loss: 0.2156 - accuracy: 0.9175 - val_loss: 0.3463 - val_accuracy: 0.8547 - 1s/epoch - 2ms/step\n",
      "Epoch 6/30\n",
      "625/625 - 2s - loss: 0.1911 - accuracy: 0.9268 - val_loss: 0.3595 - val_accuracy: 0.8517 - 2s/epoch - 3ms/step\n",
      "Epoch 7/30\n",
      "625/625 - 1s - loss: 0.1677 - accuracy: 0.9362 - val_loss: 0.3684 - val_accuracy: 0.8547 - 1s/epoch - 2ms/step\n",
      "Epoch 8/30\n",
      "625/625 - 2s - loss: 0.1489 - accuracy: 0.9456 - val_loss: 0.3872 - val_accuracy: 0.8529 - 2s/epoch - 3ms/step\n",
      "Epoch 9/30\n",
      "625/625 - 2s - loss: 0.1339 - accuracy: 0.9534 - val_loss: 0.4093 - val_accuracy: 0.8501 - 2s/epoch - 3ms/step\n",
      "Epoch 10/30\n",
      "625/625 - 2s - loss: 0.1223 - accuracy: 0.9567 - val_loss: 0.4316 - val_accuracy: 0.8471 - 2s/epoch - 3ms/step\n",
      "Epoch 11/30\n",
      "625/625 - 2s - loss: 0.1081 - accuracy: 0.9630 - val_loss: 0.4582 - val_accuracy: 0.8480 - 2s/epoch - 3ms/step\n",
      "Epoch 12/30\n",
      "625/625 - 2s - loss: 0.0997 - accuracy: 0.9672 - val_loss: 0.4871 - val_accuracy: 0.8442 - 2s/epoch - 3ms/step\n",
      "Epoch 13/30\n",
      "625/625 - 1s - loss: 0.0897 - accuracy: 0.9700 - val_loss: 0.5177 - val_accuracy: 0.8416 - 1s/epoch - 2ms/step\n",
      "Epoch 14/30\n",
      "625/625 - 2s - loss: 0.0803 - accuracy: 0.9739 - val_loss: 0.5704 - val_accuracy: 0.8357 - 2s/epoch - 3ms/step\n",
      "Epoch 15/30\n",
      "625/625 - 2s - loss: 0.0740 - accuracy: 0.9764 - val_loss: 0.5947 - val_accuracy: 0.8357 - 2s/epoch - 2ms/step\n",
      "Epoch 16/30\n",
      "625/625 - 1s - loss: 0.0663 - accuracy: 0.9790 - val_loss: 0.6304 - val_accuracy: 0.8337 - 1s/epoch - 2ms/step\n",
      "Epoch 17/30\n",
      "625/625 - 2s - loss: 0.0629 - accuracy: 0.9793 - val_loss: 0.6738 - val_accuracy: 0.8308 - 2s/epoch - 3ms/step\n",
      "Epoch 18/30\n",
      "625/625 - 2s - loss: 0.0557 - accuracy: 0.9829 - val_loss: 0.7145 - val_accuracy: 0.8280 - 2s/epoch - 3ms/step\n",
      "Epoch 19/30\n",
      "625/625 - 2s - loss: 0.0512 - accuracy: 0.9846 - val_loss: 0.7555 - val_accuracy: 0.8253 - 2s/epoch - 2ms/step\n",
      "Epoch 20/30\n",
      "625/625 - 2s - loss: 0.0464 - accuracy: 0.9861 - val_loss: 0.8151 - val_accuracy: 0.8219 - 2s/epoch - 3ms/step\n",
      "Epoch 21/30\n",
      "625/625 - 2s - loss: 0.0437 - accuracy: 0.9872 - val_loss: 0.8323 - val_accuracy: 0.8217 - 2s/epoch - 3ms/step\n",
      "Epoch 22/30\n",
      "625/625 - 2s - loss: 0.0397 - accuracy: 0.9888 - val_loss: 0.9199 - val_accuracy: 0.8158 - 2s/epoch - 3ms/step\n",
      "Epoch 23/30\n",
      "625/625 - 2s - loss: 0.0369 - accuracy: 0.9887 - val_loss: 0.9119 - val_accuracy: 0.8189 - 2s/epoch - 3ms/step\n",
      "Epoch 24/30\n",
      "625/625 - 2s - loss: 0.0338 - accuracy: 0.9899 - val_loss: 0.9770 - val_accuracy: 0.8179 - 2s/epoch - 3ms/step\n",
      "Epoch 25/30\n",
      "625/625 - 2s - loss: 0.0303 - accuracy: 0.9911 - val_loss: 0.9992 - val_accuracy: 0.8185 - 2s/epoch - 3ms/step\n",
      "Epoch 26/30\n",
      "625/625 - 2s - loss: 0.0282 - accuracy: 0.9915 - val_loss: 1.0387 - val_accuracy: 0.8170 - 2s/epoch - 3ms/step\n",
      "Epoch 27/30\n",
      "625/625 - 2s - loss: 0.0241 - accuracy: 0.9939 - val_loss: 1.1726 - val_accuracy: 0.8135 - 2s/epoch - 3ms/step\n",
      "Epoch 28/30\n",
      "625/625 - 1s - loss: 0.0241 - accuracy: 0.9929 - val_loss: 1.1663 - val_accuracy: 0.8138 - 1s/epoch - 2ms/step\n",
      "Epoch 29/30\n",
      "625/625 - 2s - loss: 0.0256 - accuracy: 0.9919 - val_loss: 1.1617 - val_accuracy: 0.8141 - 2s/epoch - 3ms/step\n",
      "Epoch 30/30\n",
      "625/625 - 2s - loss: 0.0203 - accuracy: 0.9943 - val_loss: 1.1967 - val_accuracy: 0.8129 - 2s/epoch - 3ms/step\n"
     ]
    }
   ],
   "source": [
    "num_epochs = 30\n",
    "history = model.fit(training_padded,\n",
    "                    training_labels,\n",
    "                    epochs=num_epochs,\n",
    "                    validation_data=(testing_padded,\n",
    "                                     testing_labels), verbose=2)"
   ]
  },
  {
   "cell_type": "code",
   "execution_count": 29,
   "id": "01f9368a-40d5-490e-a9a4-ef80b82f82d4",
   "metadata": {
    "tags": []
   },
   "outputs": [
    {
     "data": {
      "image/png": "[encoded data removed]",
      "text/plain": [
       "<Figure size 640x480 with 1 Axes>"
      ]
     },
     "metadata": {},
     "output_type": "display_data"
    },
    {
     "data": {
      "image/png": "[encoded data removed]",
      "text/plain": [
       "<Figure size 640x480 with 1 Axes>"
      ]
     },
     "metadata": {},
     "output_type": "display_data"
    }
   ],
   "source": [
    "def plot_graphs(history, string):\n",
    "  plt.plot(history.history[string])\n",
    "  plt.plot(history.history['val_'+string])\n",
    "  plt.xlabel(\"Epochs\")\n",
    "  plt.ylabel(string)\n",
    "  plt.legend([string, 'val_'+string])\n",
    "  plt.show()\n",
    "  \n",
    "plot_graphs(history, \"accuracy\")\n",
    "plot_graphs(history, \"loss\")"
   ]
  },
  {
   "cell_type": "code",
   "execution_count": 30,
   "id": "181adcbc-7b64-4708-ba6d-488df6d47cd5",
   "metadata": {
    "tags": []
   },
   "outputs": [
    {
     "name": "stdout",
     "output_type": "stream",
     "text": [
      "former <OOV> store clerk sues over secret 'black <OOV> for minority shoppers ? ? ? ? ? ? ? ? ? ? ? ? ? ? ? ? ? ? ? ? ? ? ? ? ? ? ? ? ? ? ? ? ? ? ? ? ? ? ? ? ? ? ? ? ? ? ? ? ? ? ? ? ? ? ? ? ? ? ? ? ? ? ? ? ? ? ? ? ? ? ? ? ? ? ? ? ? ? ? ? ? ? ? ? ? ? ? ?\n",
      "mom starting to fear son's web series closest thing she will have to grandchild\n",
      "<class 'str'> 79 1\n",
      "the 'roseanne' revival catches up to our <OOV> political mood for better and worse ? ? ? ? ? ? ? ? ? ? ? ? ? ? ? ? ? ? ? ? ? ? ? ? ? ? ? ? ? ? ? ? ? ? ? ? ? ? ? ? ? ? ? ? ? ? ? ? ? ? ? ? ? ? ? ? ? ? ? ? ? ? ? ? ? ? ? ? ? ? ? ? ? ? ? ? ? ? ? ? ? ? ? ? ? ?\n",
      "mom starting to fear son's web series closest thing she will have to grandchild\n",
      "<class 'str'> 79 1\n"
     ]
    }
   ],
   "source": [
    "reverse_word_index = dict([(value, key) for (key, value) in word_index.items()])\n",
    "\n",
    "def decode_sentence(text):\n",
    "    return ' '.join([reverse_word_index.get(i, '?') for i in text])\n",
    "\n",
    "print(decode_sentence(training_padded[0]))\n",
    "print(training_sentences[2])\n",
    "print(type(training_sentences[2]), len(training_sentences[2]), labels[2])\n",
    "\n",
    "print(decode_sentence(training_padded[1]))\n",
    "print(training_sentences[2])\n",
    "print(type(training_sentences[2]), len(training_sentences[2]), labels[2])"
   ]
  },
  {
   "cell_type": "code",
   "execution_count": 31,
   "id": "4e8a1acc-637e-4efb-8367-5775feb71c30",
   "metadata": {
    "tags": []
   },
   "outputs": [
    {
     "name": "stdout",
     "output_type": "stream",
     "text": [
      "(10000, 16)\n"
     ]
    }
   ],
   "source": [
    "e = model.layers[0]\n",
    "weights = e.get_weights()[0]\n",
    "print(weights.shape) # shape: (vocab_size, embedding_dim)\n"
   ]
  },
  {
   "cell_type": "code",
   "execution_count": 33,
   "id": "f1211da3-d14f-4657-a7e9-34550af93224",
   "metadata": {
    "tags": []
   },
   "outputs": [],
   "source": [
    "import io\n",
    "\n",
    "# .tsv file are Tab-Separated Values\n",
    "vecsFilePath = f\"{PATH}output/vecs.tsv\"\n",
    "metaFilePath = f\"{PATH}output/meta.tsv\"\n",
    "\n",
    "\n",
    "# This file will be used to store the word embeddings.\n",
    "# contains the word embeddings, with each row representing a different word and each column representing a different dimension of the embedding space\n",
    "out_v = io.open(vecsFilePath, 'w', encoding='utf-8')\n",
    "# This file will be used to store the corresponding words for each row of embeddings in vecs.tsv\n",
    "# contains the corresponding words for each row in vecs.tsv, allowing for easy interpretation and visualization of the embeddings\n",
    "out_m = io.open(metaFilePath, 'w', encoding='utf-8')\n",
    "\n",
    "for word_num in range(1, vocab_size):\n",
    "    word = reverse_word_index[word_num]\n",
    "    # retrieves the embedding vector corresponding to the current index word_num\n",
    "    embeddings = weights[word_num]\n",
    "    \n",
    "    # The saved files can then be downloaded and used to visualize the word embeddings in tools like TensorBoard.\n",
    "    out_m.write(word + \"\\n\")\n",
    "    out_v.write('\\t'.join([str(x) for x in embeddings]) + \"\\n\")\n",
    "\n",
    "    \n",
    "out_v.close()\n",
    "out_m.close()"
   ]
  },
  {
   "cell_type": "code",
   "execution_count": 34,
   "id": "26abea45-bf24-4365-8883-fc7ce341f5a4",
   "metadata": {
    "tags": []
   },
   "outputs": [],
   "source": [
    "# downloads the saved files to the local machine when running in Google Colab.\n",
    "try:\n",
    "    from google.colab import files\n",
    "except ImportError:\n",
    "    pass\n",
    "else:\n",
    "    files.download(vecsFilePath)\n",
    "    files.download(metaFilePath)"
   ]
  },
  {
   "cell_type": "code",
   "execution_count": 35,
   "id": "0b8eebbc-0494-465d-a70b-105839a1b5fc",
   "metadata": {
    "tags": []
   },
   "outputs": [
    {
     "name": "stdout",
     "output_type": "stream",
     "text": [
      "1/1 [==============================] - 0s 76ms/step\n",
      "[[9.6080673e-01]\n",
      " [1.4412685e-06]]\n"
     ]
    }
   ],
   "source": [
    "sentence = [\"granny starting to fear spiders in the garden might be real\",\n",
    "            \"game of thrones season finale showing this sunday night\"]\n",
    "\n",
    "sequences = tokenizer.texts_to_sequences(sentence)\n",
    "padded = pad_sequences(sequences,\n",
    "                       maxlen=max_length,\n",
    "                       padding=padding_type,\n",
    "                       truncating=trunc_type)\n",
    "\n",
    "predictions = model.predict(padded)\n",
    "print(predictions)"
   ]
  },
  {
   "cell_type": "code",
   "execution_count": 36,
   "id": "581da2e8-4a60-4d0a-b80c-f267981e4ec4",
   "metadata": {},
   "outputs": [
    {
     "name": "stdout",
     "output_type": "stream",
     "text": [
      "[1, 0]\n"
     ]
    }
   ],
   "source": [
    "predicted_classes = [int(round(p[0])) for p in predictions]\n",
    "print(predicted_classes)"
   ]
  },
  {
   "cell_type": "code",
   "execution_count": 42,
   "id": "57fcc7c0-935f-4f9a-8aea-878431e3918f",
   "metadata": {
    "tags": []
   },
   "outputs": [],
   "source": [
    "# Save the model to disk\n",
    "model.save(modelPath)"
   ]
  },
  {
   "cell_type": "markdown",
   "id": "4342cc5a-10bc-4f3a-8c8d-1316301f4537",
   "metadata": {},
   "source": [
    "# MODEL INFERENCE"
   ]
  },
  {
   "cell_type": "code",
   "execution_count": 55,
   "id": "a88421b3-490a-4043-ba0c-ea13ce25572e",
   "metadata": {
    "tags": []
   },
   "outputs": [
    {
     "data": {
      "text/plain": [
       "(['Oh great, another rainy day. I just love getting soaked on my way to work.',\n",
       "  \"I'm so glad I spent all that time studying for that exam, just to fail anyway.\",\n",
       "  'Wow, another meeting? This is exactly how I wanted to spend my Friday afternoon.',\n",
       "  \"I love it when people don't use their turn signals. It really adds an element of surprise to my daily commute.\",\n",
       "  'Yeah, because standing in line for two hours to get a coffee is my idea of a good time.',\n",
       "  'Of course I want to hear about your new diet. I find it endlessly fascinating.',\n",
       "  \"I'm sure all these ads on YouTube are exactly what I wanted to see while trying to watch a video.\",\n",
       "  \"Oh, don't mind me. I'll just sit here and wait for you to finish your phone call while blocking the entire sidewalk.\",\n",
       "  \"I just love it when someone steals my parking spot. It's such a fun game of cat and mouse.\",\n",
       "  \"I really enjoy getting stuck in traffic for hours on end. It's a great way to unwind after a long day.\",\n",
       "  'granny starting to fear spiders in the garden might be real',\n",
       "  \"nuclear bomb detonates during rehearsal fo r 'spider-man' musical\",\n",
       "  \"I can't wait to go on vacation and spend some time at the beach.\",\n",
       "  'I just finished reading a really good book. I highly recommend it.',\n",
       "  \"I'm looking forward to seeing my family this weekend. It's been a while since we've all been together.\",\n",
       "  \"I love going for walks in the park. It's so peaceful and relaxing.\",\n",
       "  \"I'm really proud of myself for finishing that project on time. It was a lot of hard work, but it paid off.\",\n",
       "  'I had a great time at the party last night. It was so nice to catch up with old friends.',\n",
       "  \"I'm feeling really motivated to start exercising more. I know it will be good for my health.\",\n",
       "  \"I just tried a new restaurant and the food was amazing. I can't wait to go back again.\",\n",
       "  \"I'm grateful for all the support and encouragement I've received from my friends and family.\",\n",
       "  \"I'm so lucky to have a job that I enjoy and coworkers who are supportive and kind.\",\n",
       "  'game of thrones season finale showing this sunday night',\n",
       "  \"I'm so excited to spend my vacation on the beach!\",\n",
       "  'Oh, great. Another rainy day. Just what I wanted.'],\n",
       " [1, 1, 1, 1, 1, 1, 1, 1, 1, 1, 1, 1, 0, 0, 0, 0, 0, 0, 0, 0, 0, 0, 0, 0, 0])"
      ]
     },
     "execution_count": 55,
     "metadata": {},
     "output_type": "execute_result"
    }
   ],
   "source": [
    "sarcastic_statements = [\"Oh great, another rainy day. I just love getting soaked on my way to work.\",\n",
    "                        \"I'm so glad I spent all that time studying for that exam, just to fail anyway.\",\n",
    "                        \"Wow, another meeting? This is exactly how I wanted to spend my Friday afternoon.\",\n",
    "                        \"I love it when people don't use their turn signals. It really adds an element of surprise to my daily commute.\",\n",
    "                        \"Yeah, because standing in line for two hours to get a coffee is my idea of a good time.\",\n",
    "                        \"Of course I want to hear about your new diet. I find it endlessly fascinating.\",\n",
    "                        \"I'm sure all these ads on YouTube are exactly what I wanted to see while trying to watch a video.\",\n",
    "                        \"Oh, don't mind me. I'll just sit here and wait for you to finish your phone call while blocking the entire sidewalk.\",\n",
    "                        \"I just love it when someone steals my parking spot. It's such a fun game of cat and mouse.\",\n",
    "                        \"I really enjoy getting stuck in traffic for hours on end. It's a great way to unwind after a long day.\",\n",
    "                        \"granny starting to fear spiders in the garden might be real\",\n",
    "                        \"nuclear bomb detonates during rehearsal fo r 'spider-man' musical\"]\n",
    "\n",
    "non_sarcastic_statements = [\"I can't wait to go on vacation and spend some time at the beach.\",\n",
    "                            \"I just finished reading a really good book. I highly recommend it.\",\n",
    "                            \"I'm looking forward to seeing my family this weekend. It's been a while since we've all been together.\",\n",
    "                            \"I love going for walks in the park. It's so peaceful and relaxing.\",\n",
    "                            \"I'm really proud of myself for finishing that project on time. It was a lot of hard work, but it paid off.\",\n",
    "                            \"I had a great time at the party last night. It was so nice to catch up with old friends.\",\n",
    "                            \"I'm feeling really motivated to start exercising more. I know it will be good for my health.\",\n",
    "                            \"I just tried a new restaurant and the food was amazing. I can't wait to go back again.\",\n",
    "                            \"I'm grateful for all the support and encouragement I've received from my friends and family.\",\n",
    "                            \"I'm so lucky to have a job that I enjoy and coworkers who are supportive and kind.\",\n",
    "                            \"game of thrones season finale showing this sunday night\",\n",
    "                            \"I'm so excited to spend my vacation on the beach!\",\n",
    "                            \"Oh, great. Another rainy day. Just what I wanted.\",\n",
    "                           ]\n",
    "\n",
    "sarcastic_labels = [1]*len(sarcastic_statements)\n",
    "\n",
    "non_sarcastic_labels = [0]*len(non_sarcastic_statements)\n",
    "\n",
    "\n",
    "sentences = sarcastic_statements + non_sarcastic_statements\n",
    "truelabels = sarcastic_labels + non_sarcastic_labels \n",
    "\n",
    "sentences, truelabels"
   ]
  },
  {
   "cell_type": "code",
   "execution_count": 56,
   "id": "a8c78b34-ba30-4b5f-9934-6a01676e2b57",
   "metadata": {
    "tags": []
   },
   "outputs": [
    {
     "name": "stdout",
     "output_type": "stream",
     "text": [
      "1/1 [==============================] - 0s 184ms/step\n",
      "[[7.1471528e-04]\n",
      " [4.4390492e-04]\n",
      " [4.5106083e-14]\n",
      " [8.7973455e-11]\n",
      " [7.9572117e-01]\n",
      " [5.6665567e-10]\n",
      " [2.6708438e-24]\n",
      " [9.9494910e-01]\n",
      " [9.9574661e-01]\n",
      " [6.5739882e-01]\n",
      " [9.6080673e-01]\n",
      " [9.9940008e-01]\n",
      " [2.5665709e-06]\n",
      " [9.9812919e-01]\n",
      " [5.8471118e-14]\n",
      " [1.3407189e-10]\n",
      " [1.6908568e-09]\n",
      " [7.6008558e-01]\n",
      " [6.4028946e-08]\n",
      " [3.6110886e-20]\n",
      " [7.8725391e-16]\n",
      " [4.0494589e-07]\n",
      " [1.4412685e-06]\n",
      " [3.0295200e-11]\n",
      " [7.8900810e-03]]\n",
      "\n",
      "predicted_classes : \n",
      "[0, 0, 0, 0, 1, 0, 0, 1, 1, 1, 1, 1, 0, 1, 0, 0, 0, 1, 0, 0, 0, 0, 0, 0, 0]\n"
     ]
    }
   ],
   "source": [
    "from tensorflow.keras.models import load_model\n",
    "\n",
    "loaded_model = load_model(modelPath)\n",
    "\n",
    "max_length = 100\n",
    "embedding_dim = 16    # the number of features to represent each word ; the dimensionality of the word embeddings\n",
    "\n",
    "\n",
    "sequences = tokenizer.texts_to_sequences(sentences)\n",
    "padded = pad_sequences(sequences,\n",
    "                       maxlen=max_length,\n",
    "                       padding=padding_type,\n",
    "                       truncating=trunc_type)\n",
    "\n",
    "predictions = loaded_model.predict(padded)\n",
    "print(predictions)\n",
    "\n",
    "predicted_classes = [int(round(p[0])) for p in predictions]\n",
    "print(f\"\\npredicted_classes : \\n{predicted_classes}\")"
   ]
  },
  {
   "cell_type": "code",
   "execution_count": 57,
   "id": "b8f956dd-1d73-45ae-ba01-8753f427518b",
   "metadata": {
    "tags": []
   },
   "outputs": [
    {
     "data": {
      "text/plain": [
       "[1, 1, 1, 1, 1, 1, 1, 1, 1, 1, 1, 1, 0, 0, 0, 0, 0, 0, 0, 0, 0, 0, 0, 0, 0]"
      ]
     },
     "execution_count": 57,
     "metadata": {},
     "output_type": "execute_result"
    }
   ],
   "source": [
    "truelabels"
   ]
  },
  {
   "cell_type": "code",
   "execution_count": 66,
   "id": "4406f6b5-d3ab-4988-98ac-c88702927928",
   "metadata": {
    "tags": []
   },
   "outputs": [
    {
     "data": {
      "text/plain": [
       "(13, 12, 25, 0.52)"
      ]
     },
     "execution_count": 66,
     "metadata": {},
     "output_type": "execute_result"
    }
   ],
   "source": [
    "tp = 0\n",
    "fp = 0\n",
    "for pred_label, true_label in zip(predicted_classes, labels):\n",
    "    if pred_label == true_label:\n",
    "        tp+=1\n",
    "    else:\n",
    "        fp+=1  \n",
    "        \n",
    "tp,fp,len(sentences), tp/len(sentences)"
   ]
  }
 ],
 "metadata": {
  "kernelspec": {
   "display_name": "Python 3 (ipykernel)",
   "language": "python",
   "name": "python3"
  },
  "language_info": {
   "codemirror_mode": {
    "name": "ipython",
    "version": 3
   },
   "file_extension": ".py",
   "mimetype": "text/x-python",
   "name": "python",
   "nbconvert_exporter": "python",
   "pygments_lexer": "ipython3",
   "version": "3.11.1"
  }
 },
 "nbformat": 4,
 "nbformat_minor": 5
}
